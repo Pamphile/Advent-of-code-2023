{
 "cells": [
  {
   "cell_type": "code",
   "execution_count": null,
   "id": "859316d0-a9f0-493c-ba7e-f19eaeb3bd85",
   "metadata": {},
   "outputs": [],
   "source": [
    "red_ = 12\n",
    "green_ = 13\n",
    "blue_ = 14\n",
    "counter = 0\n",
    "with open('input.txt') as f:\n",
    "   for id_, line in enumerate(f):\n",
    "        red, green, blue = get_color_number(line)\n",
    "        print(f\"line {id_ +1} is: {red} reds, {green} greens, {blue} blues\")\n",
    "        if blue <= blue_ and green <= green_ and red <= red_:            \n",
    "            counter += id_ +1\n",
    "            print(counter)\n",
    "print(counter)"
   ]
  },
  {
   "cell_type": "code",
   "execution_count": 92,
   "id": "996a446b-4fd3-4a13-9357-e8f80ba50da2",
   "metadata": {},
   "outputs": [],
   "source": [
    "def get_color_number(text):\n",
    "    red, green, blue = [], [], []\n",
    "    for match in re.finditer(\"blue\", text):\n",
    "        blue.append(int(re.findall('\\d+', text[match.start()-3:match.end()+1])[0]))\n",
    "    for match in re.finditer(\"red\", text):\n",
    "        red.append(int(re.findall('\\d+', text[match.start()-3:match.end()+1])[0]))\n",
    "    for match in re.finditer(\"green\", text):\n",
    "        green.append(int(re.findall('\\d+', text[match.start()-3:match.end()+1])[0]))\n",
    "    return max(red), max(green), max(blue)"
   ]
  },
  {
   "cell_type": "code",
   "execution_count": 100,
   "id": "2c57905a-fb77-4a68-8f81-d4e88288954d",
   "metadata": {},
   "outputs": [
    {
     "name": "stdout",
     "output_type": "stream",
     "text": [
      "63307\n"
     ]
    }
   ],
   "source": [
    "counter = 0\n",
    "with open('input.txt') as f:\n",
    "   for line in f:       \n",
    "        counter += get_color_power(line) \n",
    "print(counter)"
   ]
  },
  {
   "cell_type": "code",
   "execution_count": 97,
   "id": "56568c91-d07b-449c-a158-fe9ee7d63926",
   "metadata": {},
   "outputs": [],
   "source": [
    "def get_color_power(text):\n",
    "    red, green, blue = [], [], []\n",
    "    for match in re.finditer(\"blue\", text):\n",
    "        blue.append(int(re.findall('\\d+', text[match.start()-3:match.end()+1])[0]))\n",
    "    for match in re.finditer(\"red\", text):\n",
    "        red.append(int(re.findall('\\d+', text[match.start()-3:match.end()+1])[0]))\n",
    "    for match in re.finditer(\"green\", text):\n",
    "        green.append(int(re.findall('\\d+', text[match.start()-3:match.end()+1])[0]))\n",
    "    return max(red)*max(green)*max(blue)"
   ]
  }
 ],
 "metadata": {
  "kernelspec": {
   "display_name": "Python 3 (ipykernel)",
   "language": "python",
   "name": "python3"
  },
  "language_info": {
   "codemirror_mode": {
    "name": "ipython",
    "version": 3
   },
   "file_extension": ".py",
   "mimetype": "text/x-python",
   "name": "python",
   "nbconvert_exporter": "python",
   "pygments_lexer": "ipython3",
   "version": "3.9.13"
  }
 },
 "nbformat": 4,
 "nbformat_minor": 5
}
